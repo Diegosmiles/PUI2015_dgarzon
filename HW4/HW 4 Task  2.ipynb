{
 "cells": [
  {
   "cell_type": "markdown",
   "metadata": {},
   "source": [
    "# Task 2"
   ]
  },
  {
   "cell_type": "code",
   "execution_count": 1,
   "metadata": {
    "collapsed": false
   },
   "outputs": [
    {
     "name": "stdout",
     "output_type": "stream",
     "text": [
      "Populating the interactive namespace from numpy and matplotlib\n"
     ]
    }
   ],
   "source": [
    "import pylab as pl\n",
    "import pandas as pd\n",
    "import numpy as np\n",
    "%pylab inline\n",
    "import os\n",
    "import scipy.stats"
   ]
  },
  {
   "cell_type": "code",
   "execution_count": 2,
   "metadata": {
    "collapsed": false,
    "scrolled": true
   },
   "outputs": [
    {
     "name": "stdout",
     "output_type": "stream",
     "text": [
      "normal on normal (0.027010329453455162, 0.45662642211859739)\n",
      "normal on normal (1.3504975228134981, array([ 0.574,  0.653,  0.784,  0.914,  1.088]), array([ 15. ,  10. ,   5. ,   2.5,   1. ]))\n",
      "\n",
      "poisson on normal (0.5, 0.0)\n",
      "poisson on normal (62.838279327774899, array([ 0.574,  0.653,  0.784,  0.914,  1.088]), array([ 15. ,  10. ,   5. ,   2.5,   1. ]))\n",
      "[ 1.088]\n"
     ]
    }
   ],
   "source": [
    "#generate the distribution\n",
    "dist_n = np.random.randn(1000)\n",
    "\n",
    "#test ad and ks. those are easy\n",
    "print \"normal on normal\", scipy.stats.kstest(dist_n,'norm')\n",
    "print \"normal on normal\", scipy.stats.anderson(dist_n, dist='norm')\n",
    "print \"\" \n",
    "\n",
    "dist_p = np.random.poisson(1, 1000)\n",
    "\n",
    "print \"poisson on normal\", scipy.stats.kstest(dist_p,'norm')\n",
    "print \"poisson on normal\", scipy.stats.anderson(dist_p, dist='norm')\n",
    "\n",
    "threshold = scipy.stats.anderson(dist_n, dist='norm')[1][scipy.stats.anderson(dist_n, dist='norm')[2]==[1.0]]\n",
    "print threshold\n",
    "\n",
    "##what is this threshold I am saving??"
   ]
  },
  {
   "cell_type": "markdown",
   "metadata": {},
   "source": [
    "##For the KS test\n",
    "For the first case: \"normal on normal\", I get a KS test statistic equal to $0.0219$. That means that the distance between both cummulative functions is $0.0219$ when they are further away from each other.\n",
    "The P value for this test is $0.7224$, which is larger than our significance level. Then, we fail to reject the null hypothesis that the two samples were drawn from the same distribution.\n",
    "\n",
    "On the second case \"Poisson on normal\" we get a KS statistic equal to $0.5$ (it is a big number!) and the P value is $0.0$ which is smaller than our confidence level. Then the Null hypothesis, that the two samples were drawn from the same distribution, is rejected.\n",
    "\n",
    "##For the Anderson test\n",
    "In the Anderson test, the outcomes are a number, which is the Anderson Statistic, and 2 arrays of 5 numbers each. The statistic value will be larger if the distributions are not likely to be related; the first array is a list of critical values, each one associated with a confidence level. According to the documentation, if the coefficient is larger than the critical value for the corresponding significance level, the null hypothesis that the data come from the chosen distribution is rejected.\n",
    "\n",
    "For \"normal on normal\" we get a statistic equal to $0.5$ that is a smaller than our threshold $1.088$. Then, on the \"normal on normal\" case we fail to reject the Nule hypothesis with a $99 \\%$ level of confidence. \n",
    "\n",
    "For \"poisson on normal\" case we get a statistic equal to $61.4347$ which is bigger than every critical value on the first array!. In particular, it is bigger than our threshold of $1.088$, then we reject the nule hypothesis with a $99 \\%$ level of confidence. \n",
    "\n",
    "##The threshold\n",
    "The threshold is choosing a critical value, for the given $\\alpha =.01$. In this case, it is the last value of the first array (that is $1.088$)\n",
    "\n",
    "\n",
    "\n"
   ]
  },
  {
   "cell_type": "markdown",
   "metadata": {},
   "source": [
    "## Entropy "
   ]
  },
  {
   "cell_type": "markdown",
   "metadata": {},
   "source": [
    "the KL divergence is a little trickier: i have to pass it the values of the distribution at some x's: that means i have to pass it a NORMALIZED HISTOGRAM OF MY DISTRIBUTION, i.e. derive a PDF from the data. we have done it before!\n",
    "i have to pass it a function for my comparison distribution evaluated at the x-values where my empirical distribution is evaluated. not just the name of a distribution"
   ]
  },
  {
   "cell_type": "code",
   "execution_count": 3,
   "metadata": {
    "collapsed": false
   },
   "outputs": [],
   "source": [
    "distpdf_n, mybins_n, = np.histogram(dist_n, density=True)\n",
    "distpdf_b, mybins_b, = np.histogram(dist_p, density=True)\n",
    "#notice the extra comma on the left side of the '=' sign: that tells numpy take the first two values returned, and throw away the rest"
   ]
  },
  {
   "cell_type": "markdown",
   "metadata": {},
   "source": [
    "then i have to pass it the functional form of a normal PDF, which is returned by the function scipy.stats.norm for example (a google search would have told you!) evaluated at the bin centers of the histogram from before"
   ]
  },
  {
   "cell_type": "code",
   "execution_count": 4,
   "metadata": {
    "collapsed": false
   },
   "outputs": [
    {
     "name": "stdout",
     "output_type": "stream",
     "text": [
      "normal on normal 0.00728119351062\n",
      "poisson on normal 0.499733390664\n"
     ]
    }
   ],
   "source": [
    "#get the bin centers\n",
    "bincenters_n = mybins_n[:-1] + 0.5*(mybins_n[1] - mybins_n[0])\n",
    "bincenters_b = mybins_b[:-1] + 0.5*(mybins_b[1] - mybins_b[0])\n",
    "print \"normal on normal\", scipy.stats.entropy(distpdf_n, scipy.stats.norm.pdf(bincenters_n))  \n",
    "print \"poisson on normal\", scipy.stats.entropy(distpdf_b, scipy.stats.norm.pdf(bincenters_b)) \n",
    "\n",
    "#you can interpret this as a distance: it increases as the distributions diverge"
   ]
  },
  {
   "cell_type": "markdown",
   "metadata": {},
   "source": [
    "It looks like a high value is rejecting the NULL Hypothesis that the distribution from both sets come from the same theoretical distribution. \n",
    "Entropy, in this context, is a measure of how the information differs between two sets. The information difference is higher when both data sets come from a different distribution."
   ]
  },
  {
   "cell_type": "markdown",
   "metadata": {},
   "source": [
    "#Binomial"
   ]
  },
  {
   "cell_type": "code",
   "execution_count": 5,
   "metadata": {
    "collapsed": true
   },
   "outputs": [],
   "source": [
    "#to store the data i am generating an empty array of the size of the values of n i want to test. i do that with np.zeros which takes the length of the array as argument, and the data type as optional argument, but default is float, which is fine by me, so i do not need any argument other then the lenght \n",
    "narray = range(1,50,1)\n",
    "ks_b = np.zeros(len(narray))\n",
    "ad_b = np.zeros(len(narray))\n",
    "kl_b = np.zeros(len(narray))\n",
    "chi2_b = np.zeros(len(narray))\n",
    "\n",
    "\n",
    "def mynorm (x, mu, var):\n",
    "    return scipy.stats.norm.cdf(x, loc=mu, scale=var)\n",
    "\n",
    "#then i put the tests in a for loop so that i can generate a distribution for given parameters once, \n",
    "#and run all tests against it\n",
    "#now the valus that i want to plot depends on how i intend to describe the plot, and viceversa. \n",
    "\n",
    "#here is one way to plot it, knowing the values i get for the tests when \n",
    "#i throw in a poisson distribution with low l and compare it with a gaussian and \n",
    "#assuming that that is a vary bad match\n",
    "p=0.5\n",
    "for i,n in enumerate(narray):\n",
    "    p=0.1 #parameter for the binomial, my arbitrary choice\n",
    "    #generate the distribution\n",
    "    dist = np.random.binomial(n, p, 1000)\n",
    "    #run the tests. \n",
    "#####################I MADE A CHANGE HERE\n",
    "    ks_b[i] = scipy.stats.kstest(dist, mynorm, args=(n*p, math.sqrt(n*p*(1.0-p))))[0]\n",
    "    #ks_b[i] = scipy.stats.kstest(dist, mynorm, args=(n*p, n*p*(1.0-p)))[0]\n",
    "    ad_b[i] = scipy.stats.anderson(dist, dist='norm')[0]\n",
    "    \n",
    "    \n",
    "    # for KL and Pearson's chisq I have to simulate the normal distribution as well\n",
    "    mybins=np.linspace(min(dist),max(dist), 10) \n",
    "    bincenters = mybins[:-1]+0.5*(mybins[1]-mybins[0])\n",
    "\n",
    "    #when i was coding this up something was wrong. i put some plots in to figure out what... just so you know.\n",
    "    #if i%10 == 0: \n",
    "    #    print n\n",
    "    #    pl.figure()\n",
    "    #    pl.hist(dist, bins=mybins)\n",
    "    #    pl.plot(bincenters, 1000*scipy.stats.norm.pdf(bincenters, loc=n*p, scale=n*p*(1-p)))\n",
    "    kl_b [i] =  scipy.stats.entropy(np.histogram(dist, bins=mybins)[0], scipy.stats.norm.pdf(bincenters, loc=n*p, scale=n*p*(1.0-p)))"
   ]
  },
  {
   "cell_type": "markdown",
   "metadata": {},
   "source": [
    "Above, we are performing the KS, Anderson and KL tests for comparing a set of binomial distributions with n trials (n is a number that is increasing from 1 to 50) and with a probability of success equal to 0.1, with normal distributions of mean $n*p$ and variance $(n*p*(1.0-p))$. Now, we are going to plot the results of this trials."
   ]
  },
  {
   "cell_type": "markdown",
   "metadata": {},
   "source": [
    "##PLOT"
   ]
  },
  {
   "cell_type": "code",
   "execution_count": 6,
   "metadata": {
    "collapsed": false
   },
   "outputs": [
    {
     "data": {
      "text/plain": [
       "<matplotlib.legend.Legend at 0x17a68cc0>"
      ]
     },
     "execution_count": 6,
     "metadata": {},
     "output_type": "execute_result"
    },
    {
     "data": {
      "image/png": "[encoded data removed]",
      "text/plain": [
       "<matplotlib.figure.Figure at 0xc560080>"
      ]
     },
     "metadata": {},
     "output_type": "display_data"
    }
   ],
   "source": [
    "fig = pl.figure(figsize = (15,5))\n",
    "fig.add_subplot(131)\n",
    "pl.plot(narray, ks_b, label='KS')\n",
    "pl.legend()\n",
    "\n",
    "fig.add_subplot(132)\n",
    "pl.plot(narray, ad_b,  label='AD')\n",
    "pl.plot([narray[0], narray[-1]],[threshold, threshold],color='red')\n",
    "pl.plot()\n",
    "pl.plot()\n",
    "pl.legend()\n",
    "\n",
    "fig.add_subplot(133)\n",
    "pl.plot(narray, kl_b, label='K-L ')\n",
    "\n",
    "pl.legend()"
   ]
  },
  {
   "cell_type": "markdown",
   "metadata": {},
   "source": [
    "####CAPTION \n",
    "(from left to right) Plot of the values of the KS, AD and KL tests, for goodness of the fit between a Binomial $B(n, 0.1)$ and a Normal $N(n*p, n*p*0.9)$  distributions  versus the number of trials $n$ (for $n= 1, 2, ..., 50$). As the number of trials $n$ grow, the value of the test tends to zero "
   ]
  },
  {
   "cell_type": "markdown",
   "metadata": {},
   "source": [
    "##Conclusion\n",
    "What we have here is an extension of the Central Limit Theorem: \"it states that the binomial distribution of the number of \"successes\" in n independent Bernoulli trials with probability p of success on each trial is approximately a normal distribution with mean $np$ and standard deviation $\\sqrt{np(1-p)}$, if $n$ is very large and some conditions are satisfied\" (https://en.wikipedia.org/wiki/De_Moivre%E2%80%93Laplace_theorem)"
   ]
  },
  {
   "cell_type": "markdown",
   "metadata": {},
   "source": [
    "##Poisson"
   ]
  },
  {
   "cell_type": "code",
   "execution_count": 7,
   "metadata": {
    "collapsed": false
   },
   "outputs": [],
   "source": [
    "#to store the data i am generating an empty array of the size of the values of n i want to test. i do that with np.zeros which takes the length of the array as argument, and the data type as optional argument, but default is float, which is fine by me, so i do not need any argument other then the lenght \n",
    "narray = range(1,50,1)\n",
    "ks_b = np.zeros(len(narray))\n",
    "ad_b = np.zeros(len(narray))\n",
    "kl_b = np.zeros(len(narray))\n",
    "chi2_b = np.zeros(len(narray))\n",
    "\n",
    "\n",
    "#then i put the tests in a for loop so that i can generate a distribution for given parameters once, \n",
    "#and run all tests against it\n",
    "#now the valus that i want to plot depends on how i intend to describe the plot, and viceversa. \n",
    "\n",
    "#here is one way to plot it, knowing the values i get for the tests when \n",
    "#i throw in a poisson distribution with low l and compare it with a gaussian and \n",
    "#assuming that that is a vary bad match\n",
    "\n",
    "for i,n in enumerate(narray):\n",
    "    p=0.1 #parameter for the binomial, my arbitrary choice\n",
    "    #generate the distribution\n",
    "    dist = np.random.poisson(n, 1000)\n",
    "    #run the tests. \n",
    "    ks_b[i] = scipy.stats.kstest(dist, mynorm, args=(n, math.sqrt(n)))[0]   ##You have to take sqrt(n) here.\n",
    "    ad_b[i] = scipy.stats.anderson(dist, dist='norm')[0]\n",
    "    \n",
    "        \n",
    "    # for KL and Pearson's chisq I have to simulate the normal distribution as well\n",
    "    mybins = np.linspace(min(dist),max(dist), 10) \n",
    "    bincenters = mybins[:-1]+0.5*(mybins[1]-mybins[0])\n",
    " \n",
    "    kl_b [i] =  scipy.stats.entropy(np.histogram(dist, bins=mybins)[0], scipy.stats.norm.pdf(bincenters, loc=n*p, scale=n*p*(1.0-p)))"
   ]
  },
  {
   "cell_type": "code",
   "execution_count": 8,
   "metadata": {
    "collapsed": false
   },
   "outputs": [
    {
     "data": {
      "text/plain": [
       "<matplotlib.legend.Legend at 0x180090f0>"
      ]
     },
     "execution_count": 8,
     "metadata": {},
     "output_type": "execute_result"
    },
    {
     "data": {
      "image/png": "[encoded data removed]",
      "text/plain": [
       "<matplotlib.figure.Figure at 0x17c45860>"
      ]
     },
     "metadata": {},
     "output_type": "display_data"
    }
   ],
   "source": [
    "fig = pl.figure(figsize = (15,5))\n",
    "fig.add_subplot(131)\n",
    "pl.plot(narray, ks_b, label='KS')\n",
    "pl.legend()\n",
    "\n",
    "fig.add_subplot(132)\n",
    "pl.plot(narray, ad_b,  label='AD')\n",
    "pl.plot([narray[0], narray[-1]],[threshold, threshold])\n",
    "pl.plot()\n",
    "pl.plot()\n",
    "pl.legend()\n",
    "\n",
    "fig.add_subplot(133)\n",
    "pl.plot(narray, kl_b, label='K-L ')\n",
    "\n",
    "pl.legend()"
   ]
  },
  {
   "cell_type": "markdown",
   "metadata": {},
   "source": [
    "###Caption\n",
    "\n",
    "(From left to right) Plot of the values of the KS, AD and KL tests, for goodness of the fit between a Poisson $P(n)$ and a Normal $N(n, \\sqrt{n})$  distributions  versus the number of trials (for $1, 2, ..., 50$). As the number of trials grow, the value of the test tends to zero"
   ]
  },
  {
   "cell_type": "code",
   "execution_count": null,
   "metadata": {
    "collapsed": true
   },
   "outputs": [],
   "source": []
  }
 ],
 "metadata": {
  "kernelspec": {
   "display_name": "Python 2",
   "language": "python",
   "name": "python2"
  },
  "language_info": {
   "codemirror_mode": {
    "name": "ipython",
    "version": 2
   },
   "file_extension": ".py",
   "mimetype": "text/x-python",
   "name": "python",
   "nbconvert_exporter": "python",
   "pygments_lexer": "ipython2",
   "version": "2.7.10"
  }
 },
 "nbformat": 4,
 "nbformat_minor": 0
}
